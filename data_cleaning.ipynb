{
 "metadata": {
  "language_info": {
   "codemirror_mode": {
    "name": "ipython",
    "version": 3
   },
   "file_extension": ".py",
   "mimetype": "text/x-python",
   "name": "python",
   "nbconvert_exporter": "python",
   "pygments_lexer": "ipython3",
   "version": "3.8.5"
  },
  "orig_nbformat": 2,
  "kernelspec": {
   "name": "python385jvsc74a57bd0e67560682514de828fb955d9eea9a5a5f7017de613afa9e4680298fddf5fee59",
   "display_name": "Python 3.8.5 64-bit"
  }
 },
 "nbformat": 4,
 "nbformat_minor": 2,
 "cells": [
  {
   "cell_type": "code",
   "execution_count": 2,
   "metadata": {},
   "outputs": [],
   "source": [
    "import pandas as pd \n",
    "import numpy as np\n",
    "from geopy.geocoders import Nominatim\n",
    "from functools import lru_cache"
   ]
  },
  {
   "cell_type": "code",
   "execution_count": null,
   "metadata": {},
   "outputs": [],
   "source": [
    "df = pd.read_csv(\"policekillings.csv\")\n",
    "df.shape"
   ]
  },
  {
   "cell_type": "code",
   "execution_count": null,
   "metadata": {},
   "outputs": [],
   "source": [
    "# filter null city values\n",
    "df = df[(df[\"City\"].notnull()) & df[\"State\"].notnull()]\n",
    "df.shape"
   ]
  },
  {
   "cell_type": "code",
   "execution_count": null,
   "metadata": {},
   "outputs": [],
   "source": [
    "# test city conversions\n",
    "address='Aurora, ' + states[\"CO\"] + ', United States of America'\n",
    "geolocator = Nominatim(user_agent=\"Your_Name\")\n",
    "location = geolocator.geocode(address, timeout = None)\n",
    "print(location.address)\n",
    "print((location.latitude, location.longitude))"
   ]
  },
  {
   "cell_type": "code",
   "execution_count": null,
   "metadata": {},
   "outputs": [],
   "source": [
    "states = {'AK': 'Alaska',\n",
    "            'AL': 'Alabama',\n",
    "            'AR': 'Arkansas',\n",
    "            'AS': 'American Samoa',\n",
    "            'AZ': 'Arizona',\n",
    "            'CA': 'California',\n",
    "            'CO': 'Colorado',\n",
    "            'CT': 'Connecticut',\n",
    "            'DC': 'District of Columbia',\n",
    "            'DE': 'Delaware',\n",
    "            'FL': 'Florida',\n",
    "            'GA': 'Georgia',\n",
    "            'GU': 'Guam',\n",
    "            'HI': 'Hawaii',\n",
    "            'IA': 'Iowa',\n",
    "            'ID': 'Idaho',\n",
    "            'IL': 'Illinois',\n",
    "            'IN': 'Indiana',\n",
    "            'KS': 'Kansas',\n",
    "            'KY': 'Kentucky',\n",
    "            'LA': 'Louisiana',\n",
    "            'MA': 'Massachusetts',\n",
    "            'MD': 'Maryland',\n",
    "            'ME': 'Maine',\n",
    "            'MI': 'Michigan',\n",
    "            'MN': 'Minnesota',\n",
    "            'MO': 'Missouri',\n",
    "            'MP': 'Northern Mariana Islands',\n",
    "            'MS': 'Mississippi',\n",
    "            'MT': 'Montana',\n",
    "            'NA': 'National',\n",
    "            'NC': 'North Carolina',\n",
    "            'ND': 'North Dakota',\n",
    "            'NE': 'Nebraska',\n",
    "            'NH': 'New Hampshire',\n",
    "            'NJ': 'New Jersey',\n",
    "            'NM': 'New Mexico',\n",
    "            'NV': 'Nevada',\n",
    "            'NY': 'New York',\n",
    "            'OH': 'Ohio',\n",
    "            'OK': 'Oklahoma',\n",
    "            'OR': 'Oregon',\n",
    "            'PA': 'Pennsylvania',\n",
    "            'PR': 'Puerto Rico',\n",
    "            'RI': 'Rhode Island',\n",
    "            'SC': 'South Carolina',\n",
    "            'SD': 'South Dakota',\n",
    "            'TN': 'Tennessee',\n",
    "            'TX': 'Texas',\n",
    "            'UT': 'Utah',\n",
    "            'VA': 'Virginia',\n",
    "            'VI': 'Virgin Islands',\n",
    "            'VT': 'Vermont',\n",
    "            'WA': 'Washington',\n",
    "            'WI': 'Wisconsin',\n",
    "            'WV': 'West Virginia',\n",
    "            'WY': 'Wyoming'\n",
    "    }"
   ]
  },
  {
   "cell_type": "code",
   "execution_count": null,
   "metadata": {
    "tags": [
     "outputPrepend"
    ]
   },
   "outputs": [],
   "source": [
    "# gen coordinates\n",
    "# memoization table --> geolocator calls limited by api refresh rate\n",
    "m = {}\n",
    "bad_adds = []\n",
    "def gen_coord(row):\n",
    "    print(len(m))\n",
    "    address = row[\"City\"] + \", \" + states[row[\"State\"].upper()] + \", United States of America\" \n",
    "    if address in m:\n",
    "        return m[address]\n",
    "    else:\n",
    "        location = geolocator.geocode(address)\n",
    "        if location:\n",
    "            m[address] = (location.latitude, location.longitude)\n",
    "        else:\n",
    "            print(address)\n",
    "            bad_adds.append(address)\n",
    "            m[address] = None\n",
    "    return m[address]\n",
    "\n",
    "df[\"coordinates\"] = df[[\"City\", \"State\"]].apply(gen_coord, axis = 1)\n",
    "df.head()"
   ]
  },
  {
   "cell_type": "code",
   "execution_count": null,
   "metadata": {
    "tags": []
   },
   "outputs": [],
   "source": [
    "print(df[\"coordinates\"][0][0])\n",
    "df = df[df[\"coordinates\"].notna()]\n",
    "df[\"latitude\"] = df.apply(lambda row: row[\"coordinates\"][0], axis=1)\n",
    "df[\"longitude\"] = df.apply(lambda row: row[\"coordinates\"][1], axis=1)"
   ]
  },
  {
   "cell_type": "code",
   "execution_count": null,
   "metadata": {},
   "outputs": [],
   "source": [
    "# now that all rows have coordinate positions convert back to csv for use\n",
    "df.to_csv(\"police_revised.csv\", index = False)"
   ]
  },
  {
   "cell_type": "code",
   "execution_count": null,
   "metadata": {},
   "outputs": [],
   "source": [
    "tmp = pd.read_csv(\"police_cleaned.csv\")"
   ]
  },
  {
   "cell_type": "code",
   "execution_count": null,
   "metadata": {},
   "outputs": [],
   "source": [
    "print(\"unknown race count: \" + str(len(tmp[tmp[\"Victim's race\"] == \"Unknown Race\"].index)))\n",
    "print(\"unknown age count: \" + str(len(tmp[tmp[\"Victim's age\"] == \"Unknown\"].index)))\n",
    "print(\"non NA url: \" + str(len(tmp[tmp[\"URL of image of victim\"].notna()].index)))\n",
    "print(\"unique names: \" + str(len(tmp[\"Victim's name\"].unique())-1))\n"
   ]
  },
  {
   "cell_type": "code",
   "execution_count": null,
   "metadata": {},
   "outputs": [],
   "source": [
    "print(list(tmp.columns))"
   ]
  },
  {
   "cell_type": "code",
   "execution_count": null,
   "metadata": {},
   "outputs": [],
   "source": [
    "# create year column \n",
    "tmp[\"date\"] = pd.to_datetime(tmp[\"Date of Incident (month/day/year)\"])"
   ]
  },
  {
   "cell_type": "code",
   "execution_count": null,
   "metadata": {},
   "outputs": [],
   "source": [
    "tmp[\"year\"] = tmp.apply(lambda row: row[\"date\"].year, axis = 1)"
   ]
  },
  {
   "cell_type": "code",
   "execution_count": null,
   "metadata": {},
   "outputs": [],
   "source": [
    "tmp.to_csv(\"police_cleaned.csv\", index = False)"
   ]
  },
  {
   "cell_type": "code",
   "execution_count": null,
   "metadata": {},
   "outputs": [],
   "source": [
    "police = pd.read_csv(\"police_deaths.csv\")\n",
    "# address='Alexandria Police department, ' + states[\"VA\"] + ', United States of America'\n",
    "# geolocator.geocode(address)\n",
    "print(police.columns)\n",
    "print(police.shape)\n",
    "print(type(police.year[0]))\n",
    "police[\"yearI\"] = police.apply(lambda row: int(row[\"year\"]), axis = 1)\n"
   ]
  },
  {
   "cell_type": "code",
   "execution_count": null,
   "metadata": {},
   "outputs": [],
   "source": [
    "police = police[(police[\"state\"] != \"US\")& (police[\"year\"] >= 2008) ]\n",
    "police.shape\n"
   ]
  },
  {
   "cell_type": "code",
   "execution_count": null,
   "metadata": {
    "tags": [
     "outputPrepend"
    ]
   },
   "outputs": [],
   "source": [
    "m = {}\n",
    "bad_adds = []\n",
    "def police_add_to_coords(row):\n",
    "    print(len(m), len(bad_adds))\n",
    "    address = row[\"dept\"] + \", United States of America\"\n",
    "    if address in m:\n",
    "        return m[address]\n",
    "    else:\n",
    "        location = geolocator.geocode(address)\n",
    "        if location:\n",
    "            m[address] = (location.latitude, location.longitude)\n",
    "        else:\n",
    "            print(address)\n",
    "            bad_adds.append(address)\n",
    "            m[address] = None\n",
    "    return m[address]\n",
    "police[\"coordinates\"] = police.apply(police_add_to_coords, axis = 1)"
   ]
  },
  {
   "cell_type": "code",
   "execution_count": null,
   "metadata": {},
   "outputs": [],
   "source": [
    "# address='Alexandria Police department, ' + states[\"VA\"] + ', United States of America'\n",
    "s = 'Mount Vernon Police Department, NY'\n",
    "comma_i = s.rfind(\",\")\n",
    "\n",
    "final = s[0:comma_i+1]+ \" \"+ states[s[comma_i+1:].strip()] + \", United States of America\"\n",
    "\n",
    "test = {\"department\": \"Chippewa County Sheriff's Department\"}\n",
    "print(geolocator.geocode(test))"
   ]
  },
  {
   "cell_type": "code",
   "execution_count": null,
   "metadata": {},
   "outputs": [],
   "source": [
    "police[police[\"coordinates\"].notna()].shape\n",
    "# doesn't make sense to plot by police deaths because geocoder cannot locate ~half of departments --- no cities provided only department name and state."
   ]
  },
  {
   "cell_type": "code",
   "execution_count": 21,
   "metadata": {},
   "outputs": [
    {
     "output_type": "stream",
     "name": "stdout",
     "text": [
      "(22800, 10)\nIndex(['person', 'dept', 'eow', 'cause', 'cause_short', 'date', 'year',\n       'canine', 'dept_name', 'state'],\n      dtype='object')\n"
     ]
    }
   ],
   "source": [
    "police = pd.read_csv(\"police_deaths.csv\")\n",
    "print(police.shape)\n",
    "print(police.columns)"
   ]
  },
  {
   "cell_type": "code",
   "execution_count": 23,
   "metadata": {},
   "outputs": [
    {
     "output_type": "execute_result",
     "data": {
      "text/plain": [
       "                                          person  \\\n",
       "19943          Deputy Sheriff Ernest Martin Hull   \n",
       "19944        Patrol Officer James Clinton Bryant   \n",
       "19945  Staff Sergeant Clyde Almond \"Tub\" Merritt   \n",
       "19946                Inspector Kirk B. Brookbush   \n",
       "19947     Police Officer James Francis Dougherty   \n",
       "\n",
       "                                      dept                             eow  \\\n",
       "19943   Greene County Sheriff's Office, NC    EOW: Sunday, January 2, 2000   \n",
       "19944        Broxton Police Department, GA    EOW: Monday, January 3, 2000   \n",
       "19945   Coffee County Sheriff's Office, GA    EOW: Monday, January 3, 2000   \n",
       "19946  San Francisco Police Department, CA  EOW: Tuesday, January 11, 2000   \n",
       "19947  San Francisco Police Department, CA  EOW: Tuesday, January 11, 2000   \n",
       "\n",
       "                                     cause          cause_short        date  \\\n",
       "19943  Cause of Death: Automobile accident  Automobile accident  2000-01-02   \n",
       "19944              Cause of Death: Gunfire              Gunfire  2000-01-03   \n",
       "19945              Cause of Death: Gunfire              Gunfire  2000-01-03   \n",
       "19946    Cause of Death: Aircraft accident    Aircraft accident  2000-01-11   \n",
       "19947    Cause of Death: Aircraft accident    Aircraft accident  2000-01-11   \n",
       "\n",
       "       year  canine                        dept_name state  \n",
       "19943  2000   False   Greene County Sheriff's Office    NC  \n",
       "19944  2000   False        Broxton Police Department    GA  \n",
       "19945  2000   False   Coffee County Sheriff's Office    GA  \n",
       "19946  2000   False  San Francisco Police Department    CA  \n",
       "19947  2000   False  San Francisco Police Department    CA  "
      ],
      "text/html": "<div>\n<style scoped>\n    .dataframe tbody tr th:only-of-type {\n        vertical-align: middle;\n    }\n\n    .dataframe tbody tr th {\n        vertical-align: top;\n    }\n\n    .dataframe thead th {\n        text-align: right;\n    }\n</style>\n<table border=\"1\" class=\"dataframe\">\n  <thead>\n    <tr style=\"text-align: right;\">\n      <th></th>\n      <th>person</th>\n      <th>dept</th>\n      <th>eow</th>\n      <th>cause</th>\n      <th>cause_short</th>\n      <th>date</th>\n      <th>year</th>\n      <th>canine</th>\n      <th>dept_name</th>\n      <th>state</th>\n    </tr>\n  </thead>\n  <tbody>\n    <tr>\n      <th>19943</th>\n      <td>Deputy Sheriff Ernest Martin Hull</td>\n      <td>Greene County Sheriff's Office, NC</td>\n      <td>EOW: Sunday, January 2, 2000</td>\n      <td>Cause of Death: Automobile accident</td>\n      <td>Automobile accident</td>\n      <td>2000-01-02</td>\n      <td>2000</td>\n      <td>False</td>\n      <td>Greene County Sheriff's Office</td>\n      <td>NC</td>\n    </tr>\n    <tr>\n      <th>19944</th>\n      <td>Patrol Officer James Clinton Bryant</td>\n      <td>Broxton Police Department, GA</td>\n      <td>EOW: Monday, January 3, 2000</td>\n      <td>Cause of Death: Gunfire</td>\n      <td>Gunfire</td>\n      <td>2000-01-03</td>\n      <td>2000</td>\n      <td>False</td>\n      <td>Broxton Police Department</td>\n      <td>GA</td>\n    </tr>\n    <tr>\n      <th>19945</th>\n      <td>Staff Sergeant Clyde Almond \"Tub\" Merritt</td>\n      <td>Coffee County Sheriff's Office, GA</td>\n      <td>EOW: Monday, January 3, 2000</td>\n      <td>Cause of Death: Gunfire</td>\n      <td>Gunfire</td>\n      <td>2000-01-03</td>\n      <td>2000</td>\n      <td>False</td>\n      <td>Coffee County Sheriff's Office</td>\n      <td>GA</td>\n    </tr>\n    <tr>\n      <th>19946</th>\n      <td>Inspector Kirk B. Brookbush</td>\n      <td>San Francisco Police Department, CA</td>\n      <td>EOW: Tuesday, January 11, 2000</td>\n      <td>Cause of Death: Aircraft accident</td>\n      <td>Aircraft accident</td>\n      <td>2000-01-11</td>\n      <td>2000</td>\n      <td>False</td>\n      <td>San Francisco Police Department</td>\n      <td>CA</td>\n    </tr>\n    <tr>\n      <th>19947</th>\n      <td>Police Officer James Francis Dougherty</td>\n      <td>San Francisco Police Department, CA</td>\n      <td>EOW: Tuesday, January 11, 2000</td>\n      <td>Cause of Death: Aircraft accident</td>\n      <td>Aircraft accident</td>\n      <td>2000-01-11</td>\n      <td>2000</td>\n      <td>False</td>\n      <td>San Francisco Police Department</td>\n      <td>CA</td>\n    </tr>\n  </tbody>\n</table>\n</div>"
     },
     "metadata": {},
     "execution_count": 23
    }
   ],
   "source": [
    "police = police[(police[\"year\"] >=2000)]\n",
    "police.head()"
   ]
  },
  {
   "cell_type": "code",
   "execution_count": 24,
   "metadata": {},
   "outputs": [],
   "source": [
    "police.to_csv(\"police_deaths_cleaned.csv\")"
   ]
  },
  {
   "cell_type": "code",
   "execution_count": null,
   "metadata": {},
   "outputs": [],
   "source": []
  }
 ]
}