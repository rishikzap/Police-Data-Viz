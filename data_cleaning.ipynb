{
 "metadata": {
  "language_info": {
   "codemirror_mode": {
    "name": "ipython",
    "version": 3
   },
   "file_extension": ".py",
   "mimetype": "text/x-python",
   "name": "python",
   "nbconvert_exporter": "python",
   "pygments_lexer": "ipython3",
   "version": "3.8.5"
  },
  "orig_nbformat": 2,
  "kernelspec": {
   "name": "python385jvsc74a57bd0e67560682514de828fb955d9eea9a5a5f7017de613afa9e4680298fddf5fee59",
   "display_name": "Python 3.8.5 64-bit"
  }
 },
 "nbformat": 4,
 "nbformat_minor": 2,
 "cells": [
  {
   "cell_type": "code",
   "execution_count": 34,
   "metadata": {},
   "outputs": [],
   "source": [
    "import pandas as pd \n",
    "import numpy as np\n",
    "from geopy.geocoders import Nominatim\n",
    "from functools import lru_cache"
   ]
  },
  {
   "cell_type": "code",
   "execution_count": null,
   "metadata": {},
   "outputs": [],
   "source": [
    "df = pd.read_csv(\"policekillings.csv\")\n",
    "df.shape"
   ]
  },
  {
   "cell_type": "code",
   "execution_count": null,
   "metadata": {},
   "outputs": [],
   "source": [
    "# filter null city values\n",
    "df = df[(df[\"City\"].notnull()) & (df[\"State\"].notnull())]\n",
    "df.shape"
   ]
  },
  {
   "cell_type": "code",
   "execution_count": null,
   "metadata": {},
   "outputs": [],
   "source": [
    "# test city conversions\n",
    "address='Denver, CO, United States of America'\n",
    "geolocator = Nominatim(user_agent=\"Your_Name\")\n",
    "location = geolocator.geocode(address, timeout = None)\n",
    "print(location.address)\n",
    "print((location.latitude, location.longitude))"
   ]
  },
  {
   "cell_type": "code",
   "execution_count": null,
   "metadata": {
    "tags": [
     "outputPrepend"
    ]
   },
   "outputs": [],
   "source": [
    "# gen coordinates\n",
    "# memoization table --> geolocator calls limited by api refresh rate\n",
    "m = {}\n",
    "bad_adds = []\n",
    "def gen_coord(row):\n",
    "    print(len(m))\n",
    "    address = row[\"City\"] + \", \" + row[\"State\"] + \", United States of America\" \n",
    "    if address in m:\n",
    "        return m[address]\n",
    "    else:\n",
    "        location = geolocator.geocode(address)\n",
    "        if location:\n",
    "            m[address] = (location.latitude, location.longitude)\n",
    "        else:\n",
    "            print(address)\n",
    "            bad_adds.append(address)\n",
    "            m[address] = None\n",
    "    return m[address]\n",
    "\n",
    "df[\"coordinates\"] = df[[\"City\", \"State\"]].apply(gen_coord, axis = 1)\n",
    "df.head()"
   ]
  },
  {
   "cell_type": "code",
   "execution_count": null,
   "metadata": {
    "tags": []
   },
   "outputs": [],
   "source": [
    "print(df[\"coordinates\"][0][0])\n",
    "df = df[df[\"coordinates\"].notna()]\n",
    "df[\"latitude\"] = df.apply(lambda row: row[\"coordinates\"][0], axis=1)\n",
    "df[\"longitude\"] = df.apply(lambda row: row[\"coordinates\"][1], axis=1)"
   ]
  },
  {
   "cell_type": "code",
   "execution_count": 35,
   "metadata": {},
   "outputs": [],
   "source": [
    "# now that all rows have coordinate positions convert back to csv for use\n",
    "df.to_csv(\"police_cleaned.csv\", index = False)"
   ]
  },
  {
   "cell_type": "code",
   "execution_count": 89,
   "metadata": {},
   "outputs": [],
   "source": [
    "tmp = pd.read_csv(\"police_cleaned.csv\")"
   ]
  },
  {
   "cell_type": "code",
   "execution_count": 90,
   "metadata": {},
   "outputs": [
    {
     "output_type": "stream",
     "name": "stdout",
     "text": [
      "unknown race count: 921\nunknown age count: 336\nnon NA url: 4832\nunique names: 8819\n"
     ]
    }
   ],
   "source": [
    "print(\"unknown race count: \" + str(len(tmp[tmp[\"Victim's race\"] == \"Unknown Race\"].index)))\n",
    "print(\"unknown age count: \" + str(len(tmp[tmp[\"Victim's age\"] == \"Unknown\"].index)))\n",
    "print(\"non NA url: \" + str(len(tmp[tmp[\"URL of image of victim\"].notna()].index)))\n",
    "print(\"unique names: \" + str(len(tmp[\"Victim's name\"].unique())-1))\n"
   ]
  },
  {
   "cell_type": "code",
   "execution_count": 91,
   "metadata": {},
   "outputs": [
    {
     "output_type": "stream",
     "name": "stdout",
     "text": [
      "[\"Victim's name\", \"Victim's age\", \"Victim's gender\", \"Victim's race\", 'URL of image of victim', 'Date of Incident (month/day/year)', 'Street Address of Incident', 'City', 'State', 'Zipcode', 'County', 'Agency responsible for death', 'ORI Agency Identifier (if available)', 'Cause of death', 'A brief description of the circumstances surrounding the death', 'Official disposition of death (justified or other)', 'Criminal Charges?', 'Link to news article or photo of official document', 'Symptoms of mental illness?', 'Armed/Unarmed Status', 'Alleged Weapon (Source: WaPo and Review of Cases Not Included in WaPo Database)', 'Alleged Threat Level (Source: WaPo)', 'Fleeing (Source: WaPo)', 'Body Camera (Source: WaPo)', 'WaPo ID (If included in WaPo database)', 'Off-Duty Killing?', 'Geography (via Trulia methodology based on zipcode population density: http://jedkolko.com/wp-content/uploads/2015/05/full-ZCTA-urban-suburban-rural-classification.xlsx )', 'MPV ID', 'Fatal Encounters ID', 'Encounter Type (DRAFT)', 'Initial Reported Reason for Encounter (DRAFT)', 'Names of Officers Involved (DRAFT)', 'Race of Officers Involved (DRAFT)', 'Known Past Shootings of Officer(s) (DRAFT)', 'Call for Service? (DRAFT)', 'Unnamed: 35', 'Unnamed: 36', 'Unnamed: 37', 'coordinates', 'latitude', 'longitude']\n"
     ]
    }
   ],
   "source": [
    "print(list(tmp.columns))"
   ]
  },
  {
   "cell_type": "code",
   "execution_count": 92,
   "metadata": {},
   "outputs": [],
   "source": [
    "# create year column \n",
    "tmp[\"date\"] = pd.to_datetime(tmp[\"Date of Incident (month/day/year)\"])"
   ]
  },
  {
   "cell_type": "code",
   "execution_count": 93,
   "metadata": {},
   "outputs": [],
   "source": [
    "tmp[\"year\"] = tmp.apply(lambda row: row[\"date\"].year, axis = 1)"
   ]
  },
  {
   "cell_type": "code",
   "execution_count": 95,
   "metadata": {},
   "outputs": [],
   "source": [
    "tmp.to_csv(\"police_cleaned.csv\", index = False)"
   ]
  },
  {
   "cell_type": "code",
   "execution_count": null,
   "metadata": {},
   "outputs": [],
   "source": []
  }
 ]
}